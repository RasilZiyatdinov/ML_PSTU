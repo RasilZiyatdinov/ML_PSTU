{
 "cells": [
  {
   "cell_type": "code",
   "execution_count": 1,
   "metadata": {},
   "outputs": [],
   "source": [
    "import pyaudio\n",
    "import wave\n",
    "import whisper\n",
    "\n",
    "# Функция для записи аудио\n",
    "def record_audio(filename=\"command.wav\", duration=5):\n",
    "    chunk = 1024\n",
    "    sample_format = pyaudio.paInt16\n",
    "    channels = 1\n",
    "    fs = 44100\n",
    "    frames = []\n",
    "\n",
    "    p = pyaudio.PyAudio()\n",
    "    \n",
    "    print(\"Recording...\")\n",
    "    stream = p.open(format=sample_format,\n",
    "                    channels=channels,\n",
    "                    rate=fs,\n",
    "                    frames_per_buffer=chunk,\n",
    "                    input=True)\n",
    "\n",
    "    for _ in range(0, int(fs / chunk * duration)):\n",
    "        data = stream.read(chunk)\n",
    "        frames.append(data)\n",
    "    \n",
    "    print(\"Recording finished\")\n",
    "\n",
    "    stream.stop_stream()\n",
    "    stream.close()\n",
    "    p.terminate()\n",
    "\n",
    "    wf = wave.open(filename, 'wb')\n",
    "    wf.setnchannels(channels)\n",
    "    wf.setsampwidth(p.get_sample_size(sample_format))\n",
    "    wf.setframerate(fs)\n",
    "    wf.writeframes(b''.join(frames))\n",
    "    wf.close()\n",
    "\n",
    "# Функция для распознавания речи\n",
    "def transcribe_audio(filename=\"command.wav\"):\n",
    "    model = whisper.load_model(\"base\")\n",
    "    result = model.transcribe(filename)\n",
    "    return result['text']\n"
   ]
  },
  {
   "cell_type": "code",
   "execution_count": 2,
   "metadata": {},
   "outputs": [
    {
     "name": "stderr",
     "output_type": "stream",
     "text": [
      "[nltk_data] Downloading package punkt to\n",
      "[nltk_data]     C:\\Users\\ziyat\\AppData\\Roaming\\nltk_data...\n",
      "[nltk_data]   Package punkt is already up-to-date!\n",
      "[nltk_data] Downloading package stopwords to\n",
      "[nltk_data]     C:\\Users\\ziyat\\AppData\\Roaming\\nltk_data...\n",
      "[nltk_data]   Package stopwords is already up-to-date!\n"
     ]
    }
   ],
   "source": [
    "import nltk\n",
    "import pymorphy3\n",
    "\n",
    "nltk.download('punkt')\n",
    "nltk.download('stopwords')\n",
    "\n",
    "from nltk.corpus import stopwords\n",
    "from nltk.tokenize import word_tokenize\n",
    "\n",
    "morph = pymorphy3.MorphAnalyzer()\n",
    "stop_words = set(stopwords.words('russian'))\n",
    "\n",
    "def preprocess_text(text):\n",
    "    # Токенизация\n",
    "    tokens = word_tokenize(text.lower())\n",
    "    # Удаление стоп-слов\n",
    "    tokens = [word for word in tokens if word.isalnum() and word not in stop_words]\n",
    "    # Лемматизация\n",
    "    lemmas = [morph.parse(token)[0].normal_form for token in tokens]\n",
    "    return lemmas\n"
   ]
  },
  {
   "cell_type": "code",
   "execution_count": 3,
   "metadata": {},
   "outputs": [],
   "source": [
    "import subprocess\n",
    "import webbrowser\n",
    "\n",
    "COMMANDS = {\n",
    "    'поиск': 'search',\n",
    "    'видео': 'video',\n",
    "    'открыть': 'open'\n",
    "}\n",
    "\n",
    "def execute_command(lemmas):\n",
    "    if 'поиск' in lemmas:\n",
    "        query = ' '.join(lemmas[lemmas.index('поиск')+1:])\n",
    "        url = f\"https://yandex.ru/search/?text={query}\"\n",
    "        webbrowser.open(url)\n",
    "    elif 'видео' in lemmas:\n",
    "        query = ' '.join(lemmas[lemmas.index('видео')+1:])\n",
    "        url = f\"https://www.youtube.com/results?search_query={query}\"\n",
    "        webbrowser.open(url)\n",
    "    elif 'телеграм' in lemmas:\n",
    "        subprocess.run([\"telegram-desktop\"])\n",
    "    elif 'дискорд' in lemmas:\n",
    "        subprocess.run([\"discord\"])\n",
    "    else:\n",
    "        print(\"Команда не распознана\")\n"
   ]
  },
  {
   "cell_type": "code",
   "execution_count": 7,
   "metadata": {},
   "outputs": [
    {
     "name": "stdout",
     "output_type": "stream",
     "text": [
      "Recording...\n",
      "Recording finished\n",
      "Распознанная команда:  поиск кошка\n",
      "Леммы: ['поиск', 'кошка']\n"
     ]
    }
   ],
   "source": [
    "record_audio()\n",
    "text = transcribe_audio()\n",
    "print(f\"Распознанная команда: {text}\")\n",
    "\n",
    "lemmas = preprocess_text(text)\n",
    "print(f\"Леммы: {lemmas}\")\n",
    "\n",
    "execute_command(lemmas)"
   ]
  }
 ],
 "metadata": {
  "kernelspec": {
   "display_name": "Python 3",
   "language": "python",
   "name": "python3"
  },
  "language_info": {
   "codemirror_mode": {
    "name": "ipython",
    "version": 3
   },
   "file_extension": ".py",
   "mimetype": "text/x-python",
   "name": "python",
   "nbconvert_exporter": "python",
   "pygments_lexer": "ipython3",
   "version": "3.12.6"
  }
 },
 "nbformat": 4,
 "nbformat_minor": 2
}
